{
 "cells": [
  {
   "cell_type": "markdown",
   "metadata": {},
   "source": [
    "# Purpose\n",
    "\n",
    "This is to pull data from bq into a pandas"
   ]
  },
  {
   "cell_type": "code",
   "execution_count": 4,
   "metadata": {},
   "outputs": [],
   "source": [
    "# import relevant libraries\n",
    "import pandas as pd\n",
    "from google.cloud import bigquery\n",
    "import os"
   ]
  },
  {
   "cell_type": "code",
   "execution_count": 6,
   "metadata": {},
   "outputs": [],
   "source": [
    "# store credentials and log into google cloud client\n",
    "credentials_path = \"C:/Users/Michael/OneDrive/Python/YouTube/youtube-video-data-328718-private.json\"\n",
    "os.environ['GOOGLE_APPLICATION_CREDENTIALS'] = credentials_path\n",
    "#gc_project = 'youtube-video-data-328718'\n",
    "bqclient = bigquery.Client()"
   ]
  },
  {
   "cell_type": "code",
   "execution_count": 15,
   "metadata": {},
   "outputs": [],
   "source": [
    "# write the query you want to do\n",
    "query_string = \"\"\"\n",
    "SELECT\n",
    "  *\n",
    "FROM\n",
    "  `youtube-video-data-328718.youtubeVideoData.parentComments` a\n",
    "LEFT JOIN\n",
    "  `youtube-video-data-328718..youtubeVideoData.videoData` b\n",
    "ON\n",
    "  (a.videoId = b.videoId)\n",
    "\"\"\""
   ]
  },
  {
   "cell_type": "code",
   "execution_count": 16,
   "metadata": {},
   "outputs": [],
   "source": [
    "# execute the query\n",
    "dataframe = (\n",
    "    bqclient.query(query_string)\n",
    "    .result()\n",
    "    .to_dataframe(\n",
    "        create_bqstorage_client=True\n",
    "    )\n",
    ")"
   ]
  },
  {
   "cell_type": "code",
   "execution_count": 24,
   "metadata": {},
   "outputs": [],
   "source": [
    "# for some reason, both videoId columns are both still present so drop the extra one\n",
    "dataframe = dataframe.drop(['videoId_1'], axis = 1)\n",
    "dataframe.to_csv('fullCommentDataset.csv', index = False, encoding = 'utf-8-sig')"
   ]
  }
 ],
 "metadata": {
  "interpreter": {
   "hash": "71d23c1f8c85dab5ca10a7df9e743814890b2991d9ac27ab3e759bde93dc982d"
  },
  "kernelspec": {
   "display_name": "Python 3.9.1 64-bit",
   "name": "python3"
  },
  "language_info": {
   "codemirror_mode": {
    "name": "ipython",
    "version": 3
   },
   "file_extension": ".py",
   "mimetype": "text/x-python",
   "name": "python",
   "nbconvert_exporter": "python",
   "pygments_lexer": "ipython3",
   "version": "3.9.1"
  },
  "orig_nbformat": 4
 },
 "nbformat": 4,
 "nbformat_minor": 2
}
