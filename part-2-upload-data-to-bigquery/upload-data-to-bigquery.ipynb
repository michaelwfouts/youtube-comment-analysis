{
 "cells": [
  {
   "cell_type": "markdown",
   "metadata": {},
   "source": [
    "# Purpose\n",
    "\n",
    "This is to connect with BQ and upload data to the datawarehouse"
   ]
  },
  {
   "cell_type": "code",
   "execution_count": 52,
   "metadata": {},
   "outputs": [],
   "source": [
    "# install unique libraries to this project if needed\n",
    "# pip install pandas-gbq\n",
    "# pip install google-cloud-bigquery\n",
    "\n",
    "# load in relevant libraries\n",
    "import os\n",
    "import pandas as pd\n",
    "from google.cloud import bigquery\n",
    "import pandas_gbq as pd_gbq"
   ]
  },
  {
   "cell_type": "code",
   "execution_count": 47,
   "metadata": {},
   "outputs": [],
   "source": [
    "# store credentials and log into google cloud client\n",
    "credentials_path = \"C:/Users/Michael/OneDrive/Python/YouTube/youtube-video-data-328718-private.json\"\n",
    "os.environ['GOOGLE_APPLICATION_CREDENTIALS'] = credentials_path\n",
    "gc_project = 'youtube-video-data-328718'\n",
    "client = bigquery.Client(project=gc_project)"
   ]
  },
  {
   "cell_type": "code",
   "execution_count": 49,
   "metadata": {},
   "outputs": [
    {
     "name": "stdout",
     "output_type": "stream",
     "text": [
      "Created dataset youtube-video-data-328718.youtubeVideoData\n"
     ]
    }
   ],
   "source": [
    "# create a new dataset (only needs to happen once)\n",
    "dataset_id = '{}.youtubeVideoData'.format(client.project)\n",
    "dataset = bigquery.Dataset(dataset_id)\n",
    "\n",
    "# Send the dataset to the API for creation, with an explicit timeout.\n",
    "# Raises google.api_core.exceptions.Conflict if the Dataset already\n",
    "# exists within the project.\n",
    "dataset = client.create_dataset(dataset, timeout=30)  # Make an API request.\n",
    "print(\"Created dataset {}.{}\".format(client.project, dataset.dataset_id))"
   ]
  },
  {
   "cell_type": "code",
   "execution_count": 50,
   "metadata": {},
   "outputs": [
    {
     "name": "stdout",
     "output_type": "stream",
     "text": [
      "Created table youtube-video-data-328718.youtubeVideoData.videoData\n"
     ]
    }
   ],
   "source": [
    "# create a new blank table (only needs to happen once)\n",
    "# table_id = \"your-project.your_dataset.your_table_name\"\n",
    "table_id = gc_project + '.' + 'youtubeVideoData.videoData'\n",
    "\n",
    "# create table schema (Note the column names need to be exactly the same as the df columns)\n",
    "schema = [\n",
    "    bigquery.SchemaField(\"videoId\", \"STRING\", mode = \"NULLABLE\"),\n",
    "    bigquery.SchemaField(\"title\", \"STRING\", mode = \"NULLABLE\"),\n",
    "    bigquery.SchemaField(\"channelId\", \"STRING\", mode = \"NULLABLE\"),\n",
    "    bigquery.SchemaField(\"channelTitle\", \"STRING\", mode = \"NULLABLE\"),\n",
    "    bigquery.SchemaField(\"uploadTime\", \"TIMESTAMP\", mode = \"NULLABLE\"),\n",
    "]\n",
    "\n",
    "# define table criteria and create\n",
    "table = bigquery.Table(table_id, schema=schema)\n",
    "table = client.create_table(table)  # Make an API request.\n",
    "print(\n",
    "    \"Created table {}.{}.{}\".format(table.project, table.dataset_id, table.table_id)\n",
    ")"
   ]
  },
  {
   "cell_type": "code",
   "execution_count": 53,
   "metadata": {},
   "outputs": [
    {
     "name": "stderr",
     "output_type": "stream",
     "text": [
      "1it [00:05,  5.90s/it]\n"
     ]
    }
   ],
   "source": [
    "# Note: Could only get data to be uploaded via pandas_gbq and not google.cloud\n",
    "# read data frame and change uploadTime to correct data format to allow upload\n",
    "\n",
    "df = pd.read_csv('videoInfo.csv', encoding = 'utf-8-sig')\n",
    "df.uploadTime = pd.to_datetime(df.uploadTime)\n",
    "\n",
    "pd_gbq.to_gbq(df,\n",
    "              'youtubeVideoData.videoData',\n",
    "              project_id = gc_project,\n",
    "              if_exists='replace') #options are 'fail', 'append', and 'replace'"
   ]
  },
  {
   "cell_type": "code",
   "execution_count": 57,
   "metadata": {},
   "outputs": [
    {
     "name": "stdout",
     "output_type": "stream",
     "text": [
      "Created table youtube-video-data-328718.youtubeVideoData.parentComments\n"
     ]
    }
   ],
   "source": [
    "# repeat creating a table for the parent comments data\n",
    "\n",
    "# create a new blank table (only needs to happen once)\n",
    "# table_id = \"your-project.your_dataset.your_table_name\"\n",
    "table_id = gc_project + '.' + 'youtubeVideoData.parentComments'\n",
    "\n",
    "# create table schema (Note the column names need to be exactly the same as the df columns)\n",
    "schema = [\n",
    "    bigquery.SchemaField(\"comments\", \"STRING\", mode = \"NULLABLE\"),\n",
    "    bigquery.SchemaField(\"commentsId\", \"STRING\", mode = \"NULLABLE\"),\n",
    "    bigquery.SchemaField(\"repliesCount\", \"INTEGER\", mode = \"NULLABLE\"),\n",
    "    bigquery.SchemaField(\"likesCount\", \"INTEGER\", mode = \"NULLABLE\"),\n",
    "    bigquery.SchemaField(\"videoId\", \"STRING\", mode = \"NULLABLE\"),\n",
    "]\n",
    "\n",
    "# define table criteria and create\n",
    "table = bigquery.Table(table_id, schema=schema)\n",
    "table = client.create_table(table)  # Make an API request.\n",
    "print(\n",
    "    \"Created table {}.{}.{}\".format(table.project, table.dataset_id, table.table_id)\n",
    ")"
   ]
  },
  {
   "cell_type": "code",
   "execution_count": 59,
   "metadata": {},
   "outputs": [
    {
     "name": "stderr",
     "output_type": "stream",
     "text": [
      "1it [01:22, 82.43s/it]\n"
     ]
    }
   ],
   "source": [
    "# Note: Could only get data to be uploaded via pandas_gbq and not google.cloud\n",
    "# read data frame and change uploadTime to correct data format to allow upload\n",
    "\n",
    "df = pd.read_csv('parentComments.csv', encoding = 'utf-8-sig')\n",
    "\n",
    "pd_gbq.to_gbq(df,\n",
    "              'youtubeVideoData.parentComments',\n",
    "              project_id = gc_project,\n",
    "              if_exists='append') #options are 'fail', 'append', and 'replace'"
   ]
  }
 ],
 "metadata": {
  "interpreter": {
   "hash": "71d23c1f8c85dab5ca10a7df9e743814890b2991d9ac27ab3e759bde93dc982d"
  },
  "kernelspec": {
   "display_name": "Python 3.9.1 64-bit",
   "name": "python3"
  },
  "language_info": {
   "codemirror_mode": {
    "name": "ipython",
    "version": 3
   },
   "file_extension": ".py",
   "mimetype": "text/x-python",
   "name": "python",
   "nbconvert_exporter": "python",
   "pygments_lexer": "ipython3",
   "version": "3.9.1"
  },
  "orig_nbformat": 4
 },
 "nbformat": 4,
 "nbformat_minor": 2
}
